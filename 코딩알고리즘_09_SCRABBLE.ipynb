{
 "cells": [
  {
   "cell_type": "markdown",
   "metadata": {},
   "source": [
    "## rule\n",
    "\n",
    "input\n",
    "+ N : 단어의 개수\n",
    "+ 다음 N라인 : 조합 가능한 단어\n",
    "+ 마지막 라인 : 단어를 만들 7개의 알파벳\n",
    "\n",
    "output\n",
    "+ 사전에 있는 단어 중 주어진 알파벳으로 조합 가능하고 가능한 최고 점수의 단어 출력\n",
    "\n",
    "+ 입력받은 알파벳은 각각 1번씩만 사용 가능\n",
    "+ 같은 점수의 단어라면 사전에 먼저 나타난 단어(먼저 입력받은 단어) 높은 점수\n"
   ]
  },
  {
   "cell_type": "code",
   "execution_count": 5,
   "metadata": {},
   "outputs": [
    {
     "name": "stdout",
     "output_type": "stream",
     "text": [
      "10\n",
      "after\n",
      "repots\n",
      "poowers\n",
      "powers\n",
      "these\n",
      "time\n",
      "know\n",
      "from\n",
      "could\n",
      "people\n",
      "tsropwe\n",
      "powers\n"
     ]
    }
   ],
   "source": [
    "\n",
    "n = int(input())                     # 개수\n",
    "words = [input() for i in range(n)]  # 단어 한 줄씩 입력\n",
    "letters = input()                    # 알파벳 입력\n",
    "\n",
    "\n",
    "max_score = 0\n",
    "max_word =''\n",
    "\n",
    "def is_word_feasible(word, letters):\n",
    "    feasible = True\n",
    "    for char in word:               # 단어의 철자만큼 반복 \n",
    "        if char not in letters:     # 입력받은 알파벳에 존재여부 파악\n",
    "            feasible = False\n",
    "            break\n",
    "        \n",
    "        if word.count(char) > letters.count(char): # 만약 단어에 동일한 철자가 2개이상 있는 경우에서\n",
    "                                                   # 입력 받은 알파벳에서 해당 알파벳이 1개만 존재할경우 제외시켜야함\n",
    "            feasible = False\n",
    "            break\n",
    "        \n",
    "    return feasible\n",
    "\n",
    "def get_word_score(word):\n",
    "    score = 0\n",
    "    dic_score = {'a':1, 'b':3, 'c':3, 'd':2, 'e':1, 'f':4, \\\n",
    "    'g':2, 'h':4, 'i':1, 'j':8, 'k':5, 'l':1, 'm':3, 'n':1, 'o':1, 'p':3, \\\n",
    "    'q':10, 'r':1, 's':1, 't':1, 'u':1, 'v':4, 'w':4, 'x':8, 'y':4, 'z':10,}\n",
    "    \n",
    "    for c in word:\n",
    "        score += dic_score[c]\n",
    "    \n",
    "    return score\n",
    "\n",
    "\n",
    "for word in words:\n",
    "    if is_word_feasible(word, letters):\n",
    "        score = get_word_score(word)\n",
    "        if score > max_score:   # 만약에 같은 점수의 경우 후순위에 있는 것을 정답으로 한다면\n",
    "                                # if score >= max_score '이상' 조건을 추가한다.\n",
    "            max_score = score\n",
    "            max_word = word\n",
    "\n",
    "print(max_word)"
   ]
  },
  {
   "cell_type": "code",
   "execution_count": 6,
   "metadata": {},
   "outputs": [
    {
     "name": "stdout",
     "output_type": "stream",
     "text": [
      "10\n",
      "arrest\n",
      "rarest\n",
      "raster\n",
      "raters\n",
      "sartre\n",
      "starer\n",
      "waster\n",
      "waters\n",
      "wrest\n",
      "wrase\n",
      "arwtsre\n",
      "waster\n"
     ]
    }
   ],
   "source": [
    "import sys\n",
    "import math\n",
    "\n",
    "# Auto-generated code below aims at helping you parse\n",
    "# the standard input according to the problem statement.\n",
    "\n",
    "n = int(input())\n",
    "words = [input() for i in range(n)]\n",
    "letters = input()\n",
    "\n",
    "max_score = 0\n",
    "max_word =''\n",
    "\n",
    "def is_word_feasible(word, letters):\n",
    "    feasible = True\n",
    "    for char in word:\n",
    "        if word.count(char) > letters.count(char):  # 사전 내 존재 하는 단어의 count는 1 이상\n",
    "                                                    # 입력받은 글자 letter의 count는 0 이상 \n",
    "                                                    # 따라서 이 조건 하나만으로도 단어 파악 가능\n",
    "            feasible = False\n",
    "            break\n",
    "        \n",
    "    return feasible\n",
    "\n",
    "def get_word_score(word):\n",
    "    score = 0\n",
    "    dic_score = {'a':1, 'b':3, 'c':3, 'd':2, 'e':1, 'f':4, \\\n",
    "    'g':2, 'h':4, 'i':1, 'j':8, 'k':5, 'l':1, 'm':3, 'n':1, 'o':1, 'p':3, \\\n",
    "    'q':10, 'r':1, 's':1, 't':1, 'u':1, 'v':4, 'w':4, 'x':8, 'y':4, 'z':10,}\n",
    "    \n",
    "    for c in word:\n",
    "        score += dic_score[c]\n",
    "    \n",
    "    return score\n",
    "\n",
    "\n",
    "for word in words:\n",
    "    if is_word_feasible(word, letters):\n",
    "        score = get_word_score(word)\n",
    "        if score > max_score:\n",
    "            max_score = score\n",
    "            max_word = word\n",
    "\n",
    "print(max_word)"
   ]
  }
 ],
 "metadata": {
  "kernelspec": {
   "display_name": "Python 3",
   "language": "python",
   "name": "python3"
  },
  "language_info": {
   "codemirror_mode": {
    "name": "ipython",
    "version": 3
   },
   "file_extension": ".py",
   "mimetype": "text/x-python",
   "name": "python",
   "nbconvert_exporter": "python",
   "pygments_lexer": "ipython3",
   "version": "3.7.3"
  }
 },
 "nbformat": 4,
 "nbformat_minor": 2
}
