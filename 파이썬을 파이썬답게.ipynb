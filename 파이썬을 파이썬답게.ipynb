{
 "cells": [
  {
   "cell_type": "code",
   "execution_count": 12,
   "metadata": {},
   "outputs": [
    {
     "name": "stdout",
     "output_type": "stream",
     "text": [
      "1 2\n",
      "1 2\n"
     ]
    }
   ],
   "source": [
    "# 몫과 나머지\n",
    "\n",
    "a = 7\n",
    "b = 5\n",
    "\n",
    "print(a//b, a%b) # 몫, 나머지 cf) 소수부분까지 구하는 방법 / 사용\n",
    "\n",
    "print( *divmod(a, b) ) #큰 숫자를 다룰 때 위의 코드보다 더 빠름\n"
   ]
  },
  {
   "cell_type": "code",
   "execution_count": 6,
   "metadata": {},
   "outputs": [
    {
     "name": "stdout",
     "output_type": "stream",
     "text": [
      "case 1 : 432\n",
      "case 2 : 432\n"
     ]
    }
   ],
   "source": [
    "# n진법 string -> 10진법 숫자로 변환\n",
    "\n",
    "# case 1     for 사용\n",
    "num = '3212'\n",
    "base = 5\n",
    "\n",
    "answer = 0\n",
    "for idx, i in enumerate(num[::-1]):\n",
    "    answer += int(i) * (base ** idx) # 뒷자리부터 idx 제곱 하기\n",
    "print('case 1 : {0}'.format(answer))\n",
    "\n",
    "\n",
    "\n",
    "# case 2\n",
    "answer = int(num, base)    # int(x, base = 10)\n",
    "print('case 2 : {0}'.format(answer))"
   ]
  },
  {
   "cell_type": "code",
   "execution_count": 7,
   "metadata": {},
   "outputs": [
    {
     "name": "stdout",
     "output_type": "stream",
     "text": [
      "L1 [3, 2, 1] L2 [1, 2, 3]\n"
     ]
    }
   ],
   "source": [
    "# 원본을 유지한채, 정렬된 리스트 구하기 - sorted\n",
    "\n",
    "list1 = [3, 2, 1]\n",
    "list2 = sorted(list1)\n",
    "\n",
    "print('L1',list1,'L2',list2)\n",
    "\n",
    "# cf sorted( iterable type , key = func )\n",
    "\n"
   ]
  },
  {
   "cell_type": "code",
   "execution_count": 27,
   "metadata": {},
   "outputs": [
    {
     "name": "stdout",
     "output_type": "stream",
     "text": [
      "mylist [[1, 2, 3], [4, 5, 6], [7, 8, 9]]\n",
      "case 1 [[1, 4, 7], [2, 5, 8], [3, 6, 9]]\n",
      "mylist [[1, 2, 3], [4, 5, 6], [7, 8, 9]]\n",
      "case 2 [(1, 4, 7), (2, 5, 8), (3, 6, 9)]\n"
     ]
    }
   ],
   "source": [
    "# 2차원 리스트 뒤집기 - 대각 뒤집기\n",
    "\n",
    "\n",
    "mylist = [[1, 2, 3], [4, 5, 6], [7, 8, 9]]\n",
    "new_list = [[], [], []]\n",
    "\n",
    "# case 1     2중 for문\n",
    "for i in range(3):\n",
    "    for j in range(3):\n",
    "        new_list[i].append(mylist[j][i])\n",
    "\n",
    "        \n",
    "print('mylist',mylist)\n",
    "print('case 1', new_list )\n",
    "        \n",
    "        \n",
    "# case 2     zip과 unpacking 이용\n",
    "new_list = list(map(tuple, zip(*mylist)))\n",
    "\n",
    "\n",
    "print('mylist',mylist)\n",
    "print('case 2', new_list )"
   ]
  },
  {
   "cell_type": "code",
   "execution_count": 35,
   "metadata": {},
   "outputs": [
    {
     "name": "stdout",
     "output_type": "stream",
     "text": [
      "[2, 3, 4]\n"
     ]
    }
   ],
   "source": [
    "# map 함수\n",
    "# map(func, iterable) => iterable의 각 자료형을 입력받아 func를 통한 결과를 돌려줌\n",
    "\n",
    "def two_times(x):\n",
    "    return x*2\n",
    "\n",
    "list(map(two_times,[1, 2, 3, 4]))\n",
    "list(map(lambda a: a*2, [1, 2, 3, 4]))\n",
    "\n",
    "# example \n",
    "\n",
    "mylist = [[1,2],[2,3,4],[1,5,4,2]]\n",
    "newlist = list(map(len,mylist))\n",
    "print(newlist)"
   ]
  },
  {
   "cell_type": "code",
   "execution_count": 28,
   "metadata": {},
   "outputs": [
    {
     "name": "stdout",
     "output_type": "stream",
     "text": [
      "example 1\n",
      "(1, 10)\n",
      "(2, 20)\n",
      "(3, 30)\n",
      "example 2\n",
      "1 100 52\n",
      "2 120 2\n",
      "3 30 33\n",
      "4 300 1\n",
      "example 3 {'cat': 'meow', 'dog': 'woof', 'lion': 'roar'}\n"
     ]
    },
    {
     "data": {
      "text/plain": [
       "'meow'"
      ]
     },
     "execution_count": 28,
     "metadata": {},
     "output_type": "execute_result"
    }
   ],
   "source": [
    "# zip 함수\n",
    "# zip(*iterable) 동일한 개수로 이루어진 자료형을 묶어주는 역할\n",
    "\n",
    "# ex1\n",
    "mylist = [1, 2, 3]\n",
    "yourlist = [10, 20, 30]\n",
    "\n",
    "print('example 1')\n",
    "for i in zip(mylist, yourlist):\n",
    "    print(i)\n",
    "    \n",
    "    \n",
    "# ex2 여러개의 iterable 동시에 순회\n",
    "\n",
    "list1 = [1, 2, 3, 4]\n",
    "list2 = [100, 120, 30, 300]\n",
    "list3 = [52, 2, 33, 1]\n",
    "\n",
    "answer = []\n",
    "\n",
    "print('example 2')\n",
    "for i, j, k in zip(list1, list2, list3):\n",
    "    print(i, j, k)\n",
    "    \n",
    "\n",
    "# ex3 dictionary 생성\n",
    "\n",
    "key_list = ['cat', 'dog', 'lion']\n",
    "value_list = ['meow', 'woof', 'roar']\n",
    "\n",
    "answer = dict(zip(key_list, value_list))\n",
    "print('example 3', answer)\n",
    "\n",
    "answer['cat']"
   ]
  },
  {
   "cell_type": "code",
   "execution_count": 40,
   "metadata": {},
   "outputs": [
    {
     "name": "stdout",
     "output_type": "stream",
     "text": [
      "case 1 [1, 2, 3, 4, 5, 6]\n",
      "case 2 [1, 2, 3, 4, 5, 6]\n"
     ]
    }
   ],
   "source": [
    "# 2차원 리스트를 1차원 리스트로 만들기\n",
    "\n",
    "# case 1\n",
    "my_list = [[1, 2], [3, 4], [5, 6]]\n",
    "answer = []\n",
    "\n",
    "for i in my_list:\n",
    "    answer += i\n",
    "    \n",
    "print('case 1', answer)\n",
    "\n",
    "\n",
    "# case 2 list comprehension\n",
    "#answer = [ e for arr in my_list for e in arr]\n",
    "answer = [ e for arr in my_list for e in arr]\n",
    "\n",
    "print('case 2', answer)"
   ]
  }
 ],
 "metadata": {
  "kernelspec": {
   "display_name": "Python 3",
   "language": "python",
   "name": "python3"
  },
  "language_info": {
   "codemirror_mode": {
    "name": "ipython",
    "version": 3
   },
   "file_extension": ".py",
   "mimetype": "text/x-python",
   "name": "python",
   "nbconvert_exporter": "python",
   "pygments_lexer": "ipython3",
   "version": "3.7.3"
  }
 },
 "nbformat": 4,
 "nbformat_minor": 2
}
