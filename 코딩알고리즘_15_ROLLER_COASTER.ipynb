{
 "cells": [
  {
   "cell_type": "markdown",
   "metadata": {},
   "source": [
    "#### rules\n",
    "\n",
    "- L : 롤러코스터 탑승 가능 인원\n",
    "- C : 롤러코스터 운행 횟수\n",
    "- N : 대기하는 손님 그룹 수\n",
    "- Pi : 각 그룹의 사람 수\n",
    "\n",
    "- 그룹은 반드시 함께 탑승 (좌석이 빈 상태로 운행 가능)\n",
    "\n",
    "- 롤러코스터를 탄 인원은 줄의 맨 뒤로 이동"
   ]
  },
  {
   "cell_type": "code",
   "execution_count": 10,
   "metadata": {},
   "outputs": [
    {
     "name": "stdout",
     "output_type": "stream",
     "text": [
      "5 3 2\n",
      "2\n",
      "3\n",
      "탑승인원 L:5, 운행횟수 C:3, 그룹 수 N:2\n",
      "각 그룹 인원수 [2, 3]\n"
     ]
    }
   ],
   "source": [
    "# 입력 받기\n",
    "\n",
    "# l(탑승 정원), c(운행횟수), n(그룹 수) 공백으로 입력 받기\n",
    "l, c, n = [int(i) for i in input().split()]\n",
    "\n",
    "# 각 그룹의 인원수 입력 받기\n",
    "groups = [int(input()) for i in range(n)]\n",
    "\n",
    "\n",
    "print('탑승인원 L:{0}, 운행횟수 C:{1}, 그룹 수 N:{2}'.format(l,c,n))\n",
    "print('각 그룹 인원수',groups)\n",
    "\n",
    "# total\n",
    "total_revenue = 0"
   ]
  },
  {
   "cell_type": "code",
   "execution_count": 11,
   "metadata": {},
   "outputs": [
    {
     "name": "stdout",
     "output_type": "stream",
     "text": [
      "15\n"
     ]
    }
   ],
   "source": [
    "# 롤러코스터 운행\n",
    "\n",
    "for i in range(c):       # 운행횟수(c) 만큼 운행 반복\n",
    "    num_passengers = 0   # 롤러코스터 탑승 인원수 -> L과 비교\n",
    "    people_on_ride = []  # 롤러코스터 탑승객을 담기 위한 배열\n",
    "    \n",
    "    while len(groups) > 0 and num_passengers + groups[0] <= l:\n",
    "        \n",
    "        group = groups.pop(0)\n",
    "        people_on_ride.append(group)\n",
    "        num_passengers += group\n",
    "    \n",
    "    total_revenue += num_passengers\n",
    "    groups.extend(people_on_ride)\n",
    "\n",
    "print(total_revenue)\n",
    "\n",
    "# 해당 코드의 문제점\n",
    "# 엄청나게 큰 데이터 셋 => time out"
   ]
  },
  {
   "cell_type": "markdown",
   "metadata": {},
   "source": [
    "#### sol 1\n",
    "\n",
    "+ 1번 그룹이 나가면 다시 맨 뒤에 1번 그룹이 붙는 구조 => 원형 큐\n",
    "+ 만약 10개의 그룹에 있다면 그룹에게 0 ~ 9번 까지의 번호표를 부여하는 것 과 동일하다.\n",
    "+ 1번 그룹이 빠져나가면 즉, 0번 번호표를 처리했으니 다음은 1번 번호표를 처리하면 된다.\n",
    "\n",
    "+ 즉, 이를 이용하여 그룹 멤버를 직접 옮기지 않고 번호표만 옮기면 속도를 개선할 수 있을 것이다.\n",
    "+ 다음에 탑승할 순번을 가리킬 인덱스 생성"
   ]
  },
  {
   "cell_type": "code",
   "execution_count": 12,
   "metadata": {},
   "outputs": [
    {
     "name": "stdout",
     "output_type": "stream",
     "text": [
      "5 3 2\n",
      "2\n",
      "3\n",
      "15\n"
     ]
    }
   ],
   "source": [
    "l,c,n = [int(i) for i in input().split()]\n",
    "groups = [int(input()) for i in range(n)]\n",
    "\n",
    "total_revenue = 0\n",
    "next_idx = 0       # idx를 이용하여 다음에 탑승할 손님을 가리키도록 한다.\n",
    "\n",
    "for i in range(c):\n",
    "    num_passengers = 0\n",
    "    \n",
    "    while num_passengers + groups[next_idx] <= l:\n",
    "        num_passengers += groups[next_idx]\n",
    "        next_idx = (next_idx + 1) % n    # 그룹 수 만큼 원형 큐 인덱스 변경\n",
    "        \n",
    "    total_revenue += num_passengers\n",
    "\n",
    "print(total_revenue)\n",
    "\n",
    "# 문제점\n",
    "# 이전 방법은 배열을 통해서 넣고 빼고 했기 때문에 남아있는 손님 확인이 용이하였다.\n",
    "# idx를 사용할 경우 배열을 비우는 행위가 없기 때문에 남은 인원을 확인하기 어려움\n",
    "# 따라서 시작 idx를 저장할 변수 하나 더 생성\n"
   ]
  },
  {
   "cell_type": "code",
   "execution_count": 14,
   "metadata": {},
   "outputs": [
    {
     "name": "stdout",
     "output_type": "stream",
     "text": [
      "5 3 2\n",
      "2\n",
      "3\n",
      "15\n"
     ]
    }
   ],
   "source": [
    "# sol 1 + 처음 순서를 가리키는 인덱스 생성\n",
    "\n",
    "l,c,n = [int(i) for i in input().split()]\n",
    "groups = [int(input()) for i in range(n)]\n",
    "\n",
    "total_revenue = 0\n",
    "next_idx = 0       # idx를 이용하여 다음에 탑승할 손님을 가리키도록 한다.\n",
    "\n",
    "for i in range(c):\n",
    "    num_passengers = 0\n",
    "    begin_idx = next_idx    # 운행 시작 시 맨 처음 탑승할 인덱스 저장\n",
    "    \n",
    "    while num_passengers + groups[next_idx] <= l:\n",
    "        num_passengers += groups[next_idx]\n",
    "        next_idx = (next_idx + 1) % n    # 그룹 수 만큼 원형 큐 인덱스 변경\n",
    "        \n",
    "        if begin_idx == next_idx: # 이미 탑승한 사람이 또 탑승할 상황이 발생하면 반복문 탈출\n",
    "            break\n",
    "        \n",
    "    total_revenue += num_passengers\n",
    "\n",
    "print(total_revenue)\n"
   ]
  },
  {
   "cell_type": "code",
   "execution_count": 15,
   "metadata": {},
   "outputs": [
    {
     "name": "stdout",
     "output_type": "stream",
     "text": [
      "5 3 2\n",
      "2\n",
      "3\n",
      "15\n"
     ]
    }
   ],
   "source": [
    "# sol 1 - 2\n",
    "# begin idx 없이 구하기\n",
    "# 맨 처음에 total_passengers인원과 롤러코스터 탑승 정원을 구한다.\n",
    "# 만약에 롤러코스터 탑승 정원이 더 많다면 모든 사람들이 운행횟수 만큼 탈 수 있음을 의미한다.\n",
    "\n",
    "\n",
    "l,c,n = [int(i) for i in input().split()]\n",
    "groups = [int(input()) for i in range(n)]\n",
    "\n",
    "total_revenue = 0\n",
    "total_passengers = sum(groups)\n",
    "\n",
    "if total_passengers <= l:\n",
    "    total_revenue = total_passengers * c\n",
    "\n",
    "else:\n",
    "    next_idx = 0\n",
    "    \n",
    "    for i in range(c):\n",
    "        num_passengers = 0\n",
    "        \n",
    "        while num_passengers + groups[next_idx] <= l:\n",
    "            num_passengers += groups[next_idx]\n",
    "            next_idx = (next_idx + 1) % n    # 그룹 수 만큼 원형 큐 인덱스 변경\n",
    "            \n",
    "        total_revenue += num_passengers\n",
    "\n",
    "print(total_revenue)\n"
   ]
  },
  {
   "cell_type": "markdown",
   "metadata": {},
   "source": [
    "+ 하지만 타임아웃 발생\n",
    "+ 탑승 횟수가 매우 많아 승객이 여러번 탑승하는 것이 핵심\n",
    "+ 손님이 수십 번, 수백 번 반복해서 탑승하다 보면 어느 순간 '같은 패턴'이 반복되는 경우 있음\n",
    "+ 즉 해당 패턴이 발견되면 이전에 계산한 값을 저장하여 별도의 계산없이 바로 적용\n",
    "\n",
    "+ 문제 해결 중간 과정에서 얻은 값을 재사용하여 전체 문제의 계산을 빠르게 수행하도록 코드 작성 => 동적 프로그래밍"
   ]
  },
  {
   "cell_type": "code",
   "execution_count": 18,
   "metadata": {},
   "outputs": [
    {
     "name": "stdout",
     "output_type": "stream",
     "text": [
      "5 3 2\n",
      "2\n",
      "2\n",
      "12\n"
     ]
    }
   ],
   "source": [
    "# sol 2\n",
    "# while 반복문을 빠져나오면\n",
    "# 탑승 인원 & 탑승 인덱스만 변화\n",
    "\n",
    "# 딕셔너리를 이용하여 => 시작 인덱스에 대응하는 탑승인원 & 탑승 인덱스 값 저장\n",
    "# 따라서 다음 탑승 인덱스가 n 일떼, dic[n] 값이 있다면 => 별도의 계산 없이 사용\n",
    "\n",
    "\n",
    "l,c,n = [int(i) for i in input().split()]\n",
    "groups = [int(input()) for i in range(n)]\n",
    "\n",
    "total_revenue = 0\n",
    "total_passengers = sum(groups)\n",
    "\n",
    "if total_passengers <= l:\n",
    "    total_revenue = total_passengers * c\n",
    "\n",
    "else:\n",
    "    revenue_history = {}    # 시작인덱스 -> 다음 인덱스 & 탑승 인원 딕셔너리 생성\n",
    "    next_idx = 0\n",
    "    \n",
    "    for i in range(c):\n",
    "        num_passengers = 0\n",
    "        begin_idx = next_idx\n",
    "        \n",
    "        while num_passengers + groups[next_idx] <= l:\n",
    "            num_passengers += groups[next_idx]\n",
    "            next_idx = (next_idx + 1) % n    # 그룹 수 만큼 원형 큐 인덱스 변경\n",
    "            \n",
    "        revenue_history[begin_idx] = (next_idx, num_passengers)    # 손님 탑승이 완료 되었을 때 (while 탈출) -> 정보 저장\n",
    "        total_revenue += num_passengers\n",
    "\n",
    "print(total_revenue)\n"
   ]
  },
  {
   "cell_type": "code",
   "execution_count": null,
   "metadata": {},
   "outputs": [],
   "source": [
    "# sol 2\n",
    "# while 반복문을 빠져나오면\n",
    "# 탑승 인원 & 탑승 인덱스만 변화\n",
    "\n",
    "# 딕셔너리를 이용하여 => 시작 인덱스에 대응하는 탑승인원 & 탑승 인덱스 값 저장\n",
    "# 따라서 다음 탑승 인덱스가 n 일떼, dic[n] 값이 있다면 => 별도의 계산 없이 사용\n",
    "\n",
    "\n",
    "l,c,n = [int(i) for i in input().split()]\n",
    "groups = [int(input()) for i in range(n)]\n",
    "\n",
    "total_revenue = 0\n",
    "total_passengers = sum(groups)\n",
    "\n",
    "if total_passengers <= l:\n",
    "    total_revenue = total_passengers * c\n",
    "\n",
    "else:\n",
    "    revenue_history = {}    # 시작인덱스 -> 다음 인덱스 & 탑승 인원 딕셔너리 생성\n",
    "    next_idx = 0\n",
    "    \n",
    "    # 탑승 시작\n",
    "    for i in range(c):\n",
    "        num_passengers = 0    # 탑승 인원 수 0 초기화\n",
    "        \n",
    "        # case 1 탑승 정보가 딕셔너리에 있는 경우 => next_idx와 탑승 가능 인원 수 바로 결정\n",
    "        if next_idx in revenue_history:\n",
    "            next_idx, num_passengers = revenue_history[next_idx]\n",
    "        \n",
    "        # case 2 딕셔너리에 없다면 => 직접 계산\n",
    "        else:\n",
    "            begin_idx = next_idx\n",
    "\n",
    "            while num_passengers + groups[next_idx] <= l:\n",
    "                num_passengers += groups[next_idx]\n",
    "                next_idx = (next_idx + 1) % n    # 그룹 수 만큼 원형 큐 인덱스 변경\n",
    "            \n",
    "            # 해당 정보를 다음에 사용할 수 있도록\n",
    "            revenue_history[begin_idx] = (next_idx, num_passengers)    # 손님 탑승이 완료 되었을 때 (while 탈출) -> 정보 저장\n",
    "            \n",
    "        total_revenue += num_passengers\n",
    "\n",
    "print(total_revenue)"
   ]
  }
 ],
 "metadata": {
  "kernelspec": {
   "display_name": "Python 3",
   "language": "python",
   "name": "python3"
  },
  "language_info": {
   "codemirror_mode": {
    "name": "ipython",
    "version": 3
   },
   "file_extension": ".py",
   "mimetype": "text/x-python",
   "name": "python",
   "nbconvert_exporter": "python",
   "pygments_lexer": "ipython3",
   "version": "3.7.3"
  }
 },
 "nbformat": 4,
 "nbformat_minor": 2
}
