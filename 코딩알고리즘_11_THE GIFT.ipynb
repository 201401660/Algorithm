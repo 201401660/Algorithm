{
 "cells": [
  {
   "cell_type": "markdown",
   "metadata": {},
   "source": [
    "#### rule\n",
    "\n",
    "+ 각각의 인원별로 예산 리스트를 갖고 있다.\n",
    "+ 최대한 개인의 지출 비용을 비슷하게 책정하려 함\n",
    "+ 가장 많은 비용을 내는 사람의 지출액을 최소한으로 해야한다. => 모두가 비슷하게\n",
    "\n",
    "Input\n",
    "+ N 금액을 내는 사람의 수\n",
    "+ C 선물 가격\n",
    "+ 다음 N라인 각각의 예산\n",
    "\n",
    "output\n",
    "+ 선물을 살 수 있다면 => 각각의 예산 N라인 출력\n",
    "+ 불가능하다면 => IMPOSSIBLE 출력"
   ]
  },
  {
   "cell_type": "code",
   "execution_count": 4,
   "metadata": {},
   "outputs": [
    {
     "name": "stdout",
     "output_type": "stream",
     "text": [
      "3\n",
      "100\n",
      "100\n",
      "1\n",
      "60\n",
      "1\n",
      "49\n",
      "50\n"
     ]
    }
   ],
   "source": [
    "# 탐욕 알고리즘\n",
    "# 최적의 해 또는 근사 해를 구하는데 사용하는 방법\n",
    "# 문제를 여러 단계로 나누고 각 단계의 최적의 값을 찾는다.\n",
    "\n",
    "n = int(input())\n",
    "c = int(input())\n",
    "budget = [int(input()) for i in range(n)]\n",
    "budget = sorted(budget) # 매 턴마다 누가 얼마를 내야할지 정하기위해 예산을 정렬한다.\n",
    "#pay = []\n",
    "\n",
    "if  sum(budget) < c:\n",
    "    print('IMPOSSIBLE')\n",
    "    \n",
    "else:\n",
    "    for i in range(n):\n",
    "        avg_pay = c // (n-i) # 최대한 공평하게 지불하기 위해 '금액 / 남은 인원수'를 이용하여 금액을 정한다. \n",
    "        \n",
    "        if budget[i] <= avg_pay: # 만약 내야할 금액이 예산보다 적다면 모든 예산을 지불한다.\n",
    "            #pay.append(budget[i])\n",
    "            c -= budget[i]\n",
    "            print(budget[i])\n",
    "        \n",
    "        else:\n",
    "            #pay.append(avg_pay)\n",
    "            c -= avg_pay\n",
    "            print(avg_pay)\n",
    "\n",
    "# 문제에서 요구하는 바는 단순한 출력이었다.\n",
    "# 하지만 나는 각각의 지불 금액을 담을 리스트를 생성하여 메모리를 더 소비하였다."
   ]
  },
  {
   "cell_type": "code",
   "execution_count": 3,
   "metadata": {},
   "outputs": [
    {
     "name": "stdout",
     "output_type": "stream",
     "text": [
      "3\n",
      "100\n",
      "100\n",
      "1\n",
      "60\n",
      "1\n",
      "49\n",
      "50\n"
     ]
    }
   ],
   "source": [
    "# sol 2\n",
    "\n",
    "n = int(input())\n",
    "c = int(input())\n",
    "budget = [int(input()) for i in range(n)]\n",
    "budget = sorted(budget)\n",
    "\n",
    "if  sum(budget) < c:\n",
    "    print('IMPOSSIBLE')\n",
    "    \n",
    "else:\n",
    "    for i in range(n):\n",
    "        avg_pay = c // (n-i)\n",
    "        pay = min(budget[i], avg_pay) # min 함수를 이용하여 조건문 없이 쉽게 지불액을 구할 수 있다.\n",
    "        c -= pay\n",
    "        print(pay)"
   ]
  }
 ],
 "metadata": {
  "kernelspec": {
   "display_name": "Python 3",
   "language": "python",
   "name": "python3"
  },
  "language_info": {
   "codemirror_mode": {
    "name": "ipython",
    "version": 3
   },
   "file_extension": ".py",
   "mimetype": "text/x-python",
   "name": "python",
   "nbconvert_exporter": "python",
   "pygments_lexer": "ipython3",
   "version": "3.7.3"
  }
 },
 "nbformat": 4,
 "nbformat_minor": 2
}
