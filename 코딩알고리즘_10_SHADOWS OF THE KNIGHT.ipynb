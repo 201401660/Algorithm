{
 "cells": [
  {
   "cell_type": "markdown",
   "metadata": {},
   "source": [
    "### rule\n",
    "\n",
    "+ 매 턴마다 폭탄의 위치를 방향으로 알려줌 (UL , U, UR, L, R, DL, D, DR)\n",
    "+ W,H : (W,H) W : 건물 너비 / H : 건물 높이\n",
    "+ N : 최대 이동 횟수\n",
    "+ X, Y : 현재 위치\n",
    "+ 매 턴마다 폭탄의 위치를 가지고 이동한 위치를 출력함\n",
    "+ (0,0) 좌상단"
   ]
  },
  {
   "cell_type": "code",
   "execution_count": null,
   "metadata": {},
   "outputs": [],
   "source": [
    "# 이진 탐색\n",
    "# 조건 => 정렬되있는 데이터 내에서만 사용 가능\n",
    "\n",
    "w, h = [int(i) for i in input().split() ]\n",
    "n = int(input())\n",
    "x, y = [int(i) for i in input().split()]\n",
    "xb, yb = [int(i) for i in input().split()]\n",
    "\n",
    "x_min = 0\n",
    "x_max = w - 1\n",
    "\n",
    "y_min = 0\n",
    "y_max = h -1\n",
    "\n",
    "\n",
    "\n",
    "while True: # 매 턴 진행\n",
    "    \n",
    "    bomb_dir = input()\n",
    "    \n",
    "    # 탐색을 위한 범위 변경\n",
    "    \n",
    "    if 'U' in bomb_dir:    # in 연산자 : 입력받은 문자열 안에 해당 문자가 포함되어있나\n",
    "        y_max = y - 1\n",
    "        \n",
    "    elif 'D' in bomb_dir:\n",
    "        y_min = y + 1\n",
    "        \n",
    "    else:\n",
    "        y_min = y_max = y\n",
    "    \n",
    "    if 'R' in bomb_dir:\n",
    "        x_min = x + 1\n",
    "        \n",
    "    elif 'L' in bomb_dir:\n",
    "        x_max = x - 1\n",
    "        \n",
    "    else:\n",
    "        x_min = x_max = x\n",
    "    \n",
    "    \n",
    "    x = (x_min + x_max) >> 1    # 이진 탐색 후 현재 위치 변경 \n",
    "    y = (y_min + y_max) >> 1    # //2 는 비트연산으로 할 수 있도록 \n",
    "    \n",
    "    print(x,y)\n",
    "    "
   ]
  }
 ],
 "metadata": {
  "kernelspec": {
   "display_name": "Python 3",
   "language": "python",
   "name": "python3"
  },
  "language_info": {
   "codemirror_mode": {
    "name": "ipython",
    "version": 3
   },
   "file_extension": ".py",
   "mimetype": "text/x-python",
   "name": "python",
   "nbconvert_exporter": "python",
   "pygments_lexer": "ipython3",
   "version": "3.7.3"
  }
 },
 "nbformat": 4,
 "nbformat_minor": 2
}
